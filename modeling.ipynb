{
 "cells": [
  {
   "cell_type": "code",
   "execution_count": 1,
   "metadata": {},
   "outputs": [],
   "source": [
    "from transformers import AutoTokenizer, AutoModelForSequenceClassification\n",
    "import torch.nn.functional as F\n",
    "from transformers import pipeline"
   ]
  },
  {
   "cell_type": "code",
   "execution_count": 2,
   "metadata": {},
   "outputs": [
    {
     "data": {
      "text/html": [
       "<div>\n",
       "<style scoped>\n",
       "    .dataframe tbody tr th:only-of-type {\n",
       "        vertical-align: middle;\n",
       "    }\n",
       "\n",
       "    .dataframe tbody tr th {\n",
       "        vertical-align: top;\n",
       "    }\n",
       "\n",
       "    .dataframe thead th {\n",
       "        text-align: right;\n",
       "    }\n",
       "</style>\n",
       "<table border=\"1\" class=\"dataframe\">\n",
       "  <thead>\n",
       "    <tr style=\"text-align: right;\">\n",
       "      <th></th>\n",
       "      <th>name</th>\n",
       "      <th>star</th>\n",
       "      <th>time</th>\n",
       "      <th>Place Id</th>\n",
       "      <th>review_id</th>\n",
       "      <th>reviews</th>\n",
       "      <th>final_text</th>\n",
       "    </tr>\n",
       "  </thead>\n",
       "  <tbody>\n",
       "    <tr>\n",
       "      <th>0</th>\n",
       "      <td>Satria Sihombing</td>\n",
       "      <td>5.0</td>\n",
       "      <td>2024-07-11 23:00:00</td>\n",
       "      <td>14</td>\n",
       "      <td>0</td>\n",
       "      <td>view nya menyala 🤩🔥🔥</td>\n",
       "      <td>the view is on</td>\n",
       "    </tr>\n",
       "    <tr>\n",
       "      <th>1</th>\n",
       "      <td>silas nainggolan</td>\n",
       "      <td>5.0</td>\n",
       "      <td>2024-07-11 23:00:00</td>\n",
       "      <td>14</td>\n",
       "      <td>1</td>\n",
       "      <td>penginapan yang paling menyatu dengan alam. ca...</td>\n",
       "      <td>accommodation that is most united with nature ...</td>\n",
       "    </tr>\n",
       "    <tr>\n",
       "      <th>2</th>\n",
       "      <td>Ari Setiawan</td>\n",
       "      <td>5.0</td>\n",
       "      <td>2024-07-11 22:00:00</td>\n",
       "      <td>14</td>\n",
       "      <td>2</td>\n",
       "      <td>bagus, hotel bernuasna baru yang berteknologi ...</td>\n",
       "      <td>nice new hightech hotel with very friendly ser...</td>\n",
       "    </tr>\n",
       "    <tr>\n",
       "      <th>3</th>\n",
       "      <td>mutiara saragih</td>\n",
       "      <td>5.0</td>\n",
       "      <td>2024-07-11 22:00:00</td>\n",
       "      <td>14</td>\n",
       "      <td>3</td>\n",
       "      <td>good</td>\n",
       "      <td>good</td>\n",
       "    </tr>\n",
       "    <tr>\n",
       "      <th>4</th>\n",
       "      <td>hendro sebayang</td>\n",
       "      <td>5.0</td>\n",
       "      <td>2024-07-11 22:00:00</td>\n",
       "      <td>14</td>\n",
       "      <td>4</td>\n",
       "      <td>so an exciting stay experience</td>\n",
       "      <td>so an exciting stay experience</td>\n",
       "    </tr>\n",
       "  </tbody>\n",
       "</table>\n",
       "</div>"
      ],
      "text/plain": [
       "               name  star                 time  Place Id  review_id  \\\n",
       "0  Satria Sihombing   5.0  2024-07-11 23:00:00        14          0   \n",
       "1  silas nainggolan   5.0  2024-07-11 23:00:00        14          1   \n",
       "2      Ari Setiawan   5.0  2024-07-11 22:00:00        14          2   \n",
       "3   mutiara saragih   5.0  2024-07-11 22:00:00        14          3   \n",
       "4   hendro sebayang   5.0  2024-07-11 22:00:00        14          4   \n",
       "\n",
       "                                             reviews  \\\n",
       "0                               view nya menyala 🤩🔥🔥   \n",
       "1  penginapan yang paling menyatu dengan alam. ca...   \n",
       "2  bagus, hotel bernuasna baru yang berteknologi ...   \n",
       "3                                               good   \n",
       "4                     so an exciting stay experience   \n",
       "\n",
       "                                          final_text  \n",
       "0                                     the view is on  \n",
       "1  accommodation that is most united with nature ...  \n",
       "2  nice new hightech hotel with very friendly ser...  \n",
       "3                                               good  \n",
       "4                     so an exciting stay experience  "
      ]
     },
     "execution_count": 2,
     "metadata": {},
     "output_type": "execute_result"
    }
   ],
   "source": [
    "import pandas as pd\n",
    "\n",
    "# df = pd.read_csv('combined_English_scrap_result.csv')\n",
    "df = pd.read_csv('final_data.csv')\n",
    "df.head()"
   ]
  },
  {
   "cell_type": "code",
   "execution_count": 3,
   "metadata": {},
   "outputs": [
    {
     "data": {
      "text/html": [
       "<div>\n",
       "<style scoped>\n",
       "    .dataframe tbody tr th:only-of-type {\n",
       "        vertical-align: middle;\n",
       "    }\n",
       "\n",
       "    .dataframe tbody tr th {\n",
       "        vertical-align: top;\n",
       "    }\n",
       "\n",
       "    .dataframe thead th {\n",
       "        text-align: right;\n",
       "    }\n",
       "</style>\n",
       "<table border=\"1\" class=\"dataframe\">\n",
       "  <thead>\n",
       "    <tr style=\"text-align: right;\">\n",
       "      <th></th>\n",
       "      <th>name</th>\n",
       "      <th>star</th>\n",
       "      <th>time</th>\n",
       "      <th>Place Id</th>\n",
       "      <th>review_id</th>\n",
       "      <th>reviews</th>\n",
       "      <th>final_text</th>\n",
       "    </tr>\n",
       "  </thead>\n",
       "  <tbody>\n",
       "    <tr>\n",
       "      <th>5626</th>\n",
       "      <td>Tiara</td>\n",
       "      <td>5.0</td>\n",
       "      <td>2024-03-14 00:00:00</td>\n",
       "      <td>32</td>\n",
       "      <td>5649</td>\n",
       "      <td>berkali2 ke jakarta nginepnya di sini kalau la...</td>\n",
       "      <td>ive been to jakarta many time and stayed here ...</td>\n",
       "    </tr>\n",
       "  </tbody>\n",
       "</table>\n",
       "</div>"
      ],
      "text/plain": [
       "       name  star                 time  Place Id  review_id  \\\n",
       "5626  Tiara   5.0  2024-03-14 00:00:00        32       5649   \n",
       "\n",
       "                                                reviews  \\\n",
       "5626  berkali2 ke jakarta nginepnya di sini kalau la...   \n",
       "\n",
       "                                             final_text  \n",
       "5626  ive been to jakarta many time and stayed here ...  "
      ]
     },
     "execution_count": 3,
     "metadata": {},
     "output_type": "execute_result"
    }
   ],
   "source": [
    "df[df.review_id == 5649]"
   ]
  },
  {
   "cell_type": "code",
   "execution_count": 4,
   "metadata": {},
   "outputs": [
    {
     "data": {
      "text/plain": [
       "name          0\n",
       "star          0\n",
       "time          0\n",
       "Place Id      0\n",
       "review_id     0\n",
       "reviews       0\n",
       "final_text    0\n",
       "dtype: int64"
      ]
     },
     "execution_count": 4,
     "metadata": {},
     "output_type": "execute_result"
    }
   ],
   "source": [
    "df.dropna(inplace=True)\n",
    "df.isna().sum()"
   ]
  },
  {
   "cell_type": "code",
   "execution_count": 5,
   "metadata": {},
   "outputs": [
    {
     "name": "stdout",
     "output_type": "stream",
     "text": [
      "<class 'pandas.core.frame.DataFrame'>\n",
      "Index: 6751 entries, 0 to 6751\n",
      "Data columns (total 7 columns):\n",
      " #   Column      Non-Null Count  Dtype  \n",
      "---  ------      --------------  -----  \n",
      " 0   name        6751 non-null   object \n",
      " 1   star        6751 non-null   float64\n",
      " 2   time        6751 non-null   object \n",
      " 3   Place Id    6751 non-null   int64  \n",
      " 4   review_id   6751 non-null   int64  \n",
      " 5   reviews     6751 non-null   object \n",
      " 6   final_text  6751 non-null   object \n",
      "dtypes: float64(1), int64(2), object(4)\n",
      "memory usage: 421.9+ KB\n"
     ]
    }
   ],
   "source": [
    "df.info()"
   ]
  },
  {
   "cell_type": "code",
   "execution_count": 6,
   "metadata": {},
   "outputs": [
    {
     "name": "stderr",
     "output_type": "stream",
     "text": [
      "C:\\Users\\Muhammad Harun A\\AppData\\Roaming\\Python\\Python39\\site-packages\\transformers\\convert_slow_tokenizer.py:562: UserWarning: The sentencepiece tokenizer that you are converting to a fast tokenizer uses the byte fallback option which is not implemented in the fast tokenizers. In practice this means that the fast version of the tokenizer can produce unknown tokens whereas the sentencepiece version would have converted these unknown tokens into a sequence of byte tokens matching the original piece of text.\n",
      "  warnings.warn(\n",
      "Processing reviews: 100%|██████████| 6751/6751 [2:18:20<00:00,  1.23s/it]   \n"
     ]
    },
    {
     "name": "stdout",
     "output_type": "stream",
     "text": [
      "   review_id      aspect sentiment_label  sentiment_score\n",
      "0          0        view         neutral         0.926652\n",
      "1          1      thanks        positive         0.994938\n",
      "2          1      option        positive         0.995657\n",
      "3          1  technology        positive         0.997838\n",
      "4          1  experience        positive         0.987064\n"
     ]
    }
   ],
   "source": [
    "import pandas as pd\n",
    "import spacy\n",
    "from transformers import AutoTokenizer, AutoModelForSequenceClassification, pipeline\n",
    "import torch.nn.functional as F\n",
    "from tqdm import tqdm\n",
    "import matplotlib.pyplot as plt\n",
    "import seaborn as sns\n",
    "\n",
    "nlp = spacy.load(\"en_core_web_sm\")\n",
    "\n",
    "absa_tokenizer = AutoTokenizer.from_pretrained(\"yangheng/deberta-v3-base-absa-v1.1\")\n",
    "absa_model = AutoModelForSequenceClassification.from_pretrained(\"yangheng/deberta-v3-base-absa-v1.1\")\n",
    "\n",
    "def extract_aspects(review):\n",
    "    doc = nlp(review)\n",
    "    aspects = set()\n",
    "    for token in doc:\n",
    "        if token.dep_ == \"nsubj\" and token.pos_ == \"NOUN\":\n",
    "            aspects.add(token.text.lower())\n",
    "        elif token.dep_ == \"amod\" and token.head.pos_ == \"NOUN\":\n",
    "            aspects.add(token.head.text.lower())\n",
    "    return list(aspects)\n",
    "\n",
    "def analyze_aspect_sentiment(sentence, aspect):\n",
    "    inputs = absa_tokenizer(f\"[CLS] {sentence} [SEP] {aspect} [SEP]\", return_tensors=\"pt\")\n",
    "    outputs = absa_model(**inputs)\n",
    "    probs = F.softmax(outputs.logits, dim=1)\n",
    "    probs = probs.detach().numpy()[0]\n",
    "    return {label: prob for label, prob in zip([\"negative\", \"neutral\", \"positive\"], probs)}\n",
    "\n",
    "def truncate_sentence(sentence, max_length=512):\n",
    "    tokens = sentence.split()\n",
    "    if len(tokens) > max_length:\n",
    "        return ' '.join(tokens[:max_length])\n",
    "    return sentence\n",
    "\n",
    "def process_reviews(df, id_column, text_column):\n",
    "    results = []\n",
    "    for index, row in tqdm(df.iterrows(), total=df.shape[0], desc=\"Processing reviews\"):\n",
    "        review_id = row[id_column]\n",
    "        sentence = row[text_column]\n",
    "        truncated_sentence = truncate_sentence(sentence)\n",
    "        aspects = extract_aspects(truncated_sentence)\n",
    "        for aspect in aspects:\n",
    "            sentiment_scores = analyze_aspect_sentiment(truncated_sentence, aspect)\n",
    "            highest_sentiment_label = max(sentiment_scores, key=sentiment_scores.get)\n",
    "            highest_sentiment_score = sentiment_scores[highest_sentiment_label]\n",
    "            results.append({\n",
    "                'review_id': review_id,\n",
    "                'aspect': aspect,\n",
    "                'sentiment_label': highest_sentiment_label,\n",
    "                'sentiment_score': highest_sentiment_score\n",
    "            })\n",
    "    return pd.DataFrame(results)\n",
    "\n",
    "df_ = df.copy()\n",
    "\n",
    "processed_df = process_reviews(df_, 'review_id', 'final_text')\n",
    "\n",
    "print(processed_df.head())\n",
    "\n",
    "processed_df.to_csv('aspect_sentiment_analysis.csv', index=False)"
   ]
  }
 ],
 "metadata": {
  "kernelspec": {
   "display_name": "Python 3",
   "language": "python",
   "name": "python3"
  },
  "language_info": {
   "codemirror_mode": {
    "name": "ipython",
    "version": 3
   },
   "file_extension": ".py",
   "mimetype": "text/x-python",
   "name": "python",
   "nbconvert_exporter": "python",
   "pygments_lexer": "ipython3",
   "version": "3.9.2"
  }
 },
 "nbformat": 4,
 "nbformat_minor": 2
}
